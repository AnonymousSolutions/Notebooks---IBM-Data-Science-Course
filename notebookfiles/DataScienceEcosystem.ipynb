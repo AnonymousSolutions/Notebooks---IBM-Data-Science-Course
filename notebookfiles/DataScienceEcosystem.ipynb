{
 "cells": [
  {
   "cell_type": "markdown",
   "id": "bd9f2c72-4bb4-42b3-8217-32b3837bf7fb",
   "metadata": {},
   "source": [
    "# Data Science Tools and Ecosystem"
   ]
  },
  {
   "cell_type": "markdown",
   "id": "0e0ed9d1-6fb2-4731-9322-f298d35c1f8c",
   "metadata": {},
   "source": [
    "## Author"
   ]
  },
  {
   "cell_type": "markdown",
   "id": "4205b67f-d9d5-45df-8e06-973d5a4f0321",
   "metadata": {},
   "source": [
    "Alexander Sherwood"
   ]
  },
  {
   "cell_type": "markdown",
   "id": "965befcf-dd8f-4655-a9f8-31df4f2118ae",
   "metadata": {},
   "source": [
    "In this notebook, Data Science Tools and Ecosystem are summarized."
   ]
  },
  {
   "cell_type": "markdown",
   "id": "474beed5-d224-406f-9671-e3ad691cdb67",
   "metadata": {},
   "source": [
    "__Objectives:__\n",
    "- List popular languages in data science\n",
    "- List common libraries in the dat science field\n",
    "- Create a single column table with three different data science tools that are environments which are open-source\n",
    "- Provide an example of simple arithmetic expressions\n",
    "- Provide a simple code cell which converts minutes into hours"
   ]
  },
  {
   "cell_type": "markdown",
   "id": "027dcc4a-7003-4ce4-9ca6-3b298029b8d5",
   "metadata": {},
   "source": [
    "Some of the popular languages that Data Scientists use are:\n",
    "1. R\n",
    "2. Python\n",
    "3. Ruby\n",
    "4. SQL\n",
    "5. Julia\n",
    "6. C/C++"
   ]
  },
  {
   "cell_type": "markdown",
   "id": "bfe7bf21-700a-46ab-ad35-7323e7e78751",
   "metadata": {},
   "source": [
    "Some of the commonly used libraries used by Data Scientists include:\n",
    "1. Pandas\n",
    "2. NumPy\n",
    "3. Matplotlib\n",
    "4. Plotly"
   ]
  },
  {
   "cell_type": "markdown",
   "id": "076be733-e52e-4dc9-b96c-a58177bc20c3",
   "metadata": {},
   "source": [
    "|Data Science Tools|\n",
    "|------------------|\n",
    "|JupyterLab|\n",
    "|R Studio|\n",
    "|VS Code|"
   ]
  },
  {
   "cell_type": "markdown",
   "id": "f00f0142-ad77-4bc7-ac2d-4ba35d5eb4df",
   "metadata": {},
   "source": [
    "### Below are a few examples of evaluating arithmetic expressions in Python"
   ]
  },
  {
   "cell_type": "code",
   "execution_count": 3,
   "id": "aeb92520-2097-4a5b-a42e-d9218e02d603",
   "metadata": {},
   "outputs": [
    {
     "data": {
      "text/plain": [
       "17"
      ]
     },
     "execution_count": 3,
     "metadata": {},
     "output_type": "execute_result"
    }
   ],
   "source": [
    "## This a simple arithmetic expression to mutiply then add integers\n",
    "(3*4)+5"
   ]
  },
  {
   "cell_type": "code",
   "execution_count": 5,
   "id": "3c54b01f-0751-44e7-8843-7bea7e0acad3",
   "metadata": {},
   "outputs": [
    {
     "name": "stdout",
     "output_type": "stream",
     "text": [
      "3.3333333333333335\n"
     ]
    }
   ],
   "source": [
    "#Convert minutes to hours, multiplying by (60^-1)\n",
    "minutes = 200\n",
    "hours = minutes * (60**(-1))\n",
    "print(hours)"
   ]
  }
 ],
 "metadata": {
  "kernelspec": {
   "display_name": "Python 3 (ipykernel)",
   "language": "python",
   "name": "python3"
  },
  "language_info": {
   "codemirror_mode": {
    "name": "ipython",
    "version": 3
   },
   "file_extension": ".py",
   "mimetype": "text/x-python",
   "name": "python",
   "nbconvert_exporter": "python",
   "pygments_lexer": "ipython3",
   "version": "3.11.10"
  }
 },
 "nbformat": 4,
 "nbformat_minor": 5
}
